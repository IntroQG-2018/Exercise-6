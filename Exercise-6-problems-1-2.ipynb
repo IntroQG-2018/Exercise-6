{
 "cells": [
  {
   "cell_type": "markdown",
   "metadata": {
    "deletable": false,
    "editable": false,
    "nbgrader": {
     "checksum": "9b055f214fc084cada3c8118f7583a72",
     "grade": false,
     "grade_id": "cell-03b08acca299ec46",
     "locked": true,
     "schema_version": 1,
     "solution": false
    }
   },
   "source": [
    "# Exercise 6: Quantitative thermochronology, part I\n",
    "\n",
    "This exercise is part 1 of the exercises on thermochronology.\n",
    "In this exercise you will run a time-dependent 1D heat transfer model, plot predicted geotherms, and predict thermochronometer ages for several thermochronometers.\n",
    "\n",
    "For each problem you need to modify the given notebook, and then upload your files to GitHub.\n",
    "The answers to the questions in this week's exercise should be given by modifying the document in places where you are asked.\n",
    "Don't forget to include clear comments that explain what happens in each section of your code cells.\n",
    "\n",
    "- **Exercise 6 is due by the start of class on on 10.12.**\n",
    "- Don't forget to check out [the hints for this week's exercise](https://introqg.github.io/qg/lessons/L6/exercise-6.html) if you're having trouble.\n",
    "- Scores on this exercise are out of 20 points."
   ]
  },
  {
   "cell_type": "markdown",
   "metadata": {
    "deletable": false,
    "editable": false,
    "nbgrader": {
     "checksum": "775d236f17e0029987e92fb9a03276ff",
     "grade": false,
     "grade_id": "cell-9ae0203390e49a7b",
     "locked": true,
     "schema_version": 1,
     "solution": false
    }
   },
   "source": [
    "## Overview\n",
    "\n",
    "This two-part set of exercises is designed to give you a better understanding of thermochronology and the temperature field in the Earth's crust.\n",
    "Thermochronology combines many aspects of what we have studied in this course, including the advection and diffusion equations, erosional processes, and some basic geostatistics.\n",
    "This first part of the exercises on thermochronology is intended to provide an understanding of heat advection and diffusion in the Earth's crust, the time-dependence of thermal processes, and how the thermal history recorded in our \"digital rock\" can be used to predict thermochronometer ages."
   ]
  },
  {
   "cell_type": "markdown",
   "metadata": {
    "deletable": false,
    "editable": false,
    "nbgrader": {
     "checksum": "596ec94c1688701b156e91bd00533709",
     "grade": false,
     "grade_id": "cell-56df2fb7c58a69e1",
     "locked": true,
     "schema_version": 1,
     "solution": false
    }
   },
   "source": [
    "## Time-dependent temperatures in the Earth\n",
    "\n",
    "In this exercise we will use an analytical solution to the 1-D time-dependent thermal advection-diffusion equation to simulate erosion of rock at the Earth's surface, the upward transport of the underlying rock toward the surface, and the changes in a 1-D geotherm with time.\n",
    "Below, we provide a working solution to the basic equation for calculating temperature *T* as a function of depth *z* and time *t* (*you don't need to convert the equation to Python, don't worry*).\n",
    "The equation was originally published by Carslaw and Jaeger (1959)\n",
    "\n",
    "\\begin{equation}\n",
    "  \\Large\n",
    "  T(z,t) = G(z + v_{z} t) + \\frac{G}{2} \\left[ (z - v_{z} t) \\mathrm{e}^{-v_{z} z / \\kappa} \\mathrm{erfc} \\left( \\frac{z - v_{z}t}{2 \\sqrt{\\kappa t}} \\right) - (z + v_{z} t) \\mathrm{erfc} \\left( \\frac{z + v_{z}t}{2 \\sqrt{\\kappa t}} \\right) \\right]\n",
    "\\end{equation}\n",
    "*Equation 1. 1D time-dependent heat advection-diffusion equation.*\n",
    "\n",
    "where $G$ is the initial temperature gradient (increase in temperature with depth), $v_{z}$ is the vertical advection velocity (positive upward), $\\kappa$ is the thermal diffusivity and $\\mathrm{erfc}()$ is the complementary error function, defined as\n",
    "\n",
    "\\begin{equation}\n",
    "  \\Large\n",
    "  \\mathrm{erfc}(x) = \\frac{2}{\\sqrt{\\pi}} \\int_{x}^{\\infty} \\mathrm{e}^{-u^{2}} du\n",
    "\\end{equation}\n",
    "*Equation 2. The complementary error function.*\n",
    "\n",
    "With this equation, the temperature increases linearly with depth at the start of the calculation (i.e., $T(z,t=0) = Gz$) and the geotherm will evolve over time as a function of the advection velocity and thermal diffusivity.\n",
    "\n",
    "If you are curious about how the the advection and diffusion equations are combined in Equation 1, you can find a solution to the steady-state version of the 1D heat transfer equation in the [notes on solving the advection-diffusion equation](https://introqg.github.io/qg/lessons/L4/solving-advection.html) from [Lesson 4](https://introqg.github.io/qg/lessons/L4/overview.html)."
   ]
  },
  {
   "cell_type": "markdown",
   "metadata": {
    "deletable": false,
    "editable": false,
    "nbgrader": {
     "checksum": "19cd7f12c4f4dc7c560b1993734d7b72",
     "grade": false,
     "grade_id": "cell-7ec6caed7f807f17",
     "locked": true,
     "schema_version": 1,
     "solution": false
    }
   },
   "source": [
    "## Problem 1: The time dependence of rock advection (12 points)\n",
    "\n",
    "We can begin by plotting geotherms to get a sense of how our temperature equation works."
   ]
  },
  {
   "cell_type": "markdown",
   "metadata": {
    "deletable": false,
    "editable": false,
    "nbgrader": {
     "checksum": "e7493fc02189c5da26f607bcfc4b7dab",
     "grade": false,
     "grade_id": "cell-b1745a7f7d9e0fd8",
     "locked": true,
     "schema_version": 1,
     "solution": false
    }
   },
   "source": [
    "### Problem 1, Part 1: Setting things up (0 points)\n",
    "\n",
    "To start we can simply run the Python cells below to load the modules we will need and define a few functions.\n",
    "The first two should look somewhat familiar, other than needing to load the `erfc` function from the SciPy module.\n",
    "\n",
    "For this part you should:\n",
    "\n",
    "- Look over the short descriptions and run the **four** Python cells below."
   ]
  },
  {
   "cell_type": "code",
   "execution_count": null,
   "metadata": {
    "deletable": false,
    "editable": false,
    "nbgrader": {
     "checksum": "40a99a5d1b0277d983f7778b3fea3e68",
     "grade": false,
     "grade_id": "cell-578780c100b7c0a1",
     "locked": true,
     "schema_version": 1,
     "solution": false
    }
   },
   "outputs": [],
   "source": [
    "# Configure Matplotlib plotting\n",
    "%matplotlib inline"
   ]
  },
  {
   "cell_type": "code",
   "execution_count": null,
   "metadata": {
    "deletable": false,
    "editable": false,
    "nbgrader": {
     "checksum": "faaccf44f262ae660ac0823630256e5f",
     "grade": false,
     "grade_id": "cell-56208fd0a94c5054",
     "locked": true,
     "schema_version": 1,
     "solution": false
    }
   },
   "outputs": [],
   "source": [
    "# Import modules\n",
    "import numpy as np\n",
    "import matplotlib.pyplot as plt\n",
    "from scipy.special import erfc"
   ]
  },
  {
   "cell_type": "markdown",
   "metadata": {
    "deletable": false,
    "editable": false,
    "nbgrader": {
     "checksum": "c0dab4f8132d383e817c396982c7ee40",
     "grade": false,
     "grade_id": "cell-48d41eeec2db40aa",
     "locked": true,
     "schema_version": 1,
     "solution": false
    }
   },
   "source": [
    "Next you can run the cell below to load a function for solving the 1D advection-diffusion equation (i.e., Equation 1 above)."
   ]
  },
  {
   "cell_type": "code",
   "execution_count": null,
   "metadata": {
    "deletable": false,
    "editable": false,
    "nbgrader": {
     "checksum": "0d394c321213d2dea8cdcde384b18244",
     "grade": false,
     "grade_id": "cell-706fdfc1cf9eefb3",
     "locked": true,
     "schema_version": 1,
     "solution": false
    }
   },
   "outputs": [],
   "source": [
    "def temp_1D(z, time, g_initial, vz, kappa):\n",
    "    \"\"\"Calculate solution to 1D transient advection-diffusion heat transfer equation.\n",
    "    \n",
    "    Keyword arguments:\n",
    "    z -- array of depths from surface (units: km)\n",
    "    time -- array of time since model start (units: m)\n",
    "    g_initial -- initial temperature gradient (units: deg. C / km)\n",
    "    vz -- vertical advection velocity (units: km / Ma)\n",
    "    kappa -- thermal diffusivity (units: km^2 / Ma)\n",
    "    \"\"\"\n",
    "    # Calculate T separately for case where t = 0 to avoid divide-by-zero warnings\n",
    "    if time == 0:\n",
    "        temperature = g_initial * z\n",
    "    else:\n",
    "        temperature = g_initial * (z + vz * time) + (g_initial / 2.0) * ((z - vz * time) *\\\n",
    "                      np.exp(-(vz * z) / kappa) * erfc((z - vz * time) / (2.0 * np.sqrt(kappa *time))) -\\\n",
    "                      (z + vz * time) * erfc((z + vz * time) / (2.0 * np.sqrt(kappa * time))))\n",
    "    return temperature"
   ]
  },
  {
   "cell_type": "markdown",
   "metadata": {
    "deletable": false,
    "editable": false,
    "nbgrader": {
     "checksum": "0c156a7b7fab8bc0714e0e9cca66a33f",
     "grade": false,
     "grade_id": "cell-05d0a2548aecd926",
     "locked": true,
     "schema_version": 1,
     "solution": false
    }
   },
   "source": [
    "Finally, the cell below defines a function to call the `temp_1D` function and define some thermal model parameters (among other things).\n",
    "Please read over this function and then run the Python cell below."
   ]
  },
  {
   "cell_type": "code",
   "execution_count": null,
   "metadata": {},
   "outputs": [],
   "source": [
    "def age_predict(plot_time0=True, plot_temp_z_hist=False, n_temp_plot=1,\n",
    "                temp_gradient=10.0, time_total=50.0, vz=0.5, calc_ahe=False,\n",
    "                calc_zhe=False, calc_mar=False):\n",
    "    \"\"\"Calculate transient 1D thermal solution and predict thermochronometer ages.\n",
    "    \n",
    "    Keyword arguments:\n",
    "    plot_time0 -- plot the initial thermal solution (default: True)\n",
    "    plot_temp_z_history -- plot the temperature-depth history of the tracked particle (default: False)\n",
    "    n_temp_plot -- number of temperature profiles to plot (default: 1)\n",
    "    temp_gradient -- initial thermal gradient (units: deg. C / km; default: 10.0)\n",
    "    time_total -- total thermal model simulation time (units: Ma; default: 50.0)\n",
    "    vz -- vertical advection velocity (units: km/Ma; default: 0.5)\n",
    "    calc_ahe -- calculate apatite (U-Th)/He age (default: False)\n",
    "    calc_zhe -- calculate zircon (U-Th)/He age (default: False)\n",
    "    calc_mar -- calculate muscovite 40Ar/39Ar age (default: False)\n",
    "    \"\"\"\n",
    "\n",
    "    # THERMAL MODEL PARAMETERS\n",
    "    z_max = 50.0            # Thermal model thickness [km]\n",
    "    kappa = 32.0            # Thermal diffusivity [km2 / Ma]\n",
    "    npz = 101               # Number of depth points for temperature calculation\n",
    "    npt = 401               # Number of times for temperature calculation\n",
    "    high_temp = 1000.0      # Temperature to assign if tracked particle depth exceeds zmax\n",
    "    \n",
    "    # CLOSURE TEMPERATURE PARAMETERS\n",
    "    # Apatite (U-Th)/He\n",
    "    size_ahe = 100.0        # Apatite grain size [um]\n",
    "    ea_ahe = 138.0e3        # Activation energy [J/mol]\n",
    "    a_ahe = 25.0            # Geometry factor [25 for sphere]\n",
    "    d0_ahe = 5.0e-3         # Diffusivity at infinite temperature [m2/s]\n",
    "    tau_ahe = 1.0           # Initial guess for characteristic time\n",
    "\n",
    "    # Zircon (U-Th)/He\n",
    "    size_zhe = 100.0        # Zircon grain size [um]\n",
    "    ea_zhe = 168.0e3        # Activation energy [J/mol]\n",
    "    a_zhe = 25.0            # Geometry factor [25 for sphere]\n",
    "    d0_zhe = 4.6e-5         # Diffusivity at infinite temperature [m2/s]\n",
    "    tau_zhe = 1.0           # Initial guess for characteristic time\n",
    "\n",
    "    # Muscovite Ar/Ar\n",
    "    size_mar = 500.0        # Muscovite grain size [um]\n",
    "    ea_mar = 183.0e3        # Activation energy [J/mol]\n",
    "    a_mar = 8.7             # Geometry factor [8.7 for planar sheet]\n",
    "    d0_mar = 3.3e-6         # Diffusivity at infinite temperature [m2/s]\n",
    "    tau_mar = 1.0           # Initial guess for characteristic time\n",
    "\n",
    "    # OTHER CONSTANTS\n",
    "    r = 8.314               # Universal gas constant\n",
    "\n",
    "    # Set initial thermochronometer ages\n",
    "    age_ahe = time_total\n",
    "    age_zhe = time_total\n",
    "    age_mar = time_total\n",
    "\n",
    "    # Convert units\n",
    "    size_ahe = size_ahe / 1.0e6 / 1.0e3                                     # um -> km\n",
    "    size_zhe = size_zhe / 1.0e6 / 1.0e3                                     # um -> km\n",
    "    size_mar = size_mar / 1.0e6 / 1.0e3                                     # um -> km\n",
    "    d0_ahe = d0_ahe * (1 / 1000.0**2.0) * (1.0e6 * 365.25 * 24.0 * 3600.0)  # m2/s -> km2/Ma\n",
    "    d0_zhe = d0_zhe * (1 / 1000.0**2.0) * (1.0e6 * 365.25 * 24.0 * 3600.0)  # m2/s -> km2/Ma\n",
    "    d0_mar = d0_mar * (1 / 1000.0**2.0) * (1.0e6 * 365.25 * 24.0 * 3600.0)  # m2/s -> km2/Ma\n",
    "\n",
    "    # Calculate diffusion parameter D0/a2 for each mineral\n",
    "    d0a2_ahe = d0_ahe / size_ahe**2.0    # Apatite\n",
    "    d0a2_zhe = d0_zhe / size_zhe**2.0    # Zircon\n",
    "    d0a2_mar = d0_mar / size_mar**2.0    # Muscovite\n",
    "\n",
    "    # Create thermal model arrays\n",
    "    z = np.linspace(0.0, z_max, npz)                    # Define depth range array\n",
    "    time = np.linspace(0.0, time_total, npt)            # Define time range array\n",
    "    time_ma = np.linspace(time_total, 0.0, npt)         # Define time array in Ma (time before present)\n",
    "    z_hist = np.linspace(time_total*vz, 0.0, npt)       # Define z particle position history\n",
    "    temp_hist = np.zeros(len(time))                     # Define initial temperature history array\n",
    "    temp = np.zeros(len(z))                             # Define initial temperature array\n",
    "\n",
    "    # Define increment for ploting output\n",
    "    iout = int(float(len(time)-1)/float(n_temp_plot))\n",
    "\n",
    "    # Create a plot window\n",
    "    plt.figure(figsize=(10,7))\n",
    "\n",
    "    # Loop over all times and calculate temperature\n",
    "    for i in range(len(time)):\n",
    "        # Calculate temperature at time[i]\n",
    "        temp = temp_1D(z, time[i], temp_gradient, vz, kappa)\n",
    "        \n",
    "        # Set the temperature history temperature to high_temp if the tracked particle\n",
    "        # depth is below z_max (where temperature would be undefined)\n",
    "        if z_hist[i] > max(z):\n",
    "            temp_hist[i] = high_temp\n",
    "        # Otherwise, store the current temperature at the depth of the tracked particle\n",
    "        else:\n",
    "            temp_hist[i] = temp_1D(z_hist[i], time[i], temp_gradient, vz, kappa)\n",
    "\n",
    "        # If plotting of the initial geotherm is requested, make the plot\n",
    "        if plot_time0 and i == 0:\n",
    "            plt.plot(temp,-z,label=str(time_ma[i])+\" Ma\")\n",
    "\n",
    "        # If the current iteration is one of the plotting increments, make the plot\n",
    "        if i == iout:\n",
    "            iout = iout + int(float(len(time))/float(n_temp_plot))\n",
    "            plt.plot(temp,-z,label=str(time_ma[i])+\" Ma\")\n",
    "\n",
    "    # Set the initial closure temperatures for the previous step to one\n",
    "    tc_ahe_prev = 1.0\n",
    "    tc_zhe_prev = 1.0\n",
    "    tc_mar_prev = 1.0\n",
    "\n",
    "    # Set the previous temperature to the max value in the current temperature array\n",
    "    temp_hist_prev = max(temp)\n",
    "\n",
    "    # Loop over all positions in the temperature history array\n",
    "    for i in range(len(temp_hist)):\n",
    "        # Calculate the cooling rate for the first temperature value\n",
    "        if i == 0:\n",
    "            dtdt = (temp_hist[i] - temp_hist[i+1]) / (time_ma[i] - time_ma[i+1])\n",
    "        # Calculate the cooling rate for the last temperature value\n",
    "        elif i == len(temp_hist)-1:\n",
    "            dtdt = (temp_hist[i-1] - temp_hist[i]) / (time_ma[i-1] - time_ma[i])\n",
    "        # Calculate the cooling rate for the the intermediate temperature values\n",
    "        else:\n",
    "            dtdt = (temp_hist[i-1] - temp_hist[i+1]) / (time_ma[i-1] - time_ma[i+1])\n",
    "\n",
    "        # Ensure the cooling rate is at least 1 deg. C per 10 Ma\n",
    "        dtdt = max(dtdt, 0.1 / (1.0e6 * 365.25 * 24.0 * 3600.0))\n",
    "\n",
    "        # Calculate apatite (U-Th)/He closure temperature if requested\n",
    "        if calc_ahe:\n",
    "            age_ahe, tc_ahe, tc_ahe_prev = dodson(tau_ahe, temp_hist[i], temp_hist_prev, time_ma[i],\n",
    "                                                  time_ma[i-1], age_ahe, tc_ahe_prev, ea_ahe, dtdt,\n",
    "                                                  a_ahe, d0a2_ahe, r)\n",
    "\n",
    "        # Calculate zircon (U-Th)/He closure temperature if requested\n",
    "        if calc_zhe:\n",
    "            age_zhe, tc_zhe, tc_zhe_prev = dodson(tau_zhe, temp_hist[i], temp_hist_prev, time_ma[i],\n",
    "                                                  time_ma[i-1], age_zhe, tc_zhe_prev, ea_zhe, dtdt,\n",
    "                                                  a_zhe, d0a2_zhe, r)\n",
    "\n",
    "        # Calculate muscovite Ar/Ar closure temperature if requested\n",
    "        if calc_mar:\n",
    "            age_mar, tc_mar, tc_mar_prev = dodson(tau_mar, temp_hist[i], temp_hist_prev, time_ma[i],\n",
    "                                                  time_ma[i-1], age_mar, tc_mar_prev, ea_mar, dtdt,\n",
    "                                                  a_mar, d0a2_mar, r)\n",
    "\n",
    "        # Store previous temperature in thermal history\n",
    "        temp_hist_prev = temp_hist[i]\n",
    "\n",
    "    # Write apatite (U-Th)/He age to screen if requested\n",
    "    if calc_ahe:\n",
    "        print(\"Apatite (U-Th)/He age: {0:.2f} Ma\".format(age_ahe))\n",
    "\n",
    "    # Write zircon (U-Th)/He age to screen if requested\n",
    "    if calc_zhe:\n",
    "        print(\"Zircon (U-Th)/He age: {0:.2f} Ma\".format(age_zhe))\n",
    "\n",
    "    # Write muscovite Ar/Ar age to screen if requested\n",
    "    if calc_mar:\n",
    "        print(\"Muscovite Ar/Ar age: {0:.2f} Ma\".format(age_mar))\n",
    "\n",
    "    # Plot particle depth-temperature history if requested\n",
    "    if plot_temp_z_hist:\n",
    "        plt.plot(temp_hist,-z_hist,'o', label=\"Thermal history\")\n",
    "\n",
    "    # Label axes and add title\n",
    "    plt.xlabel(\"\")\n",
    "    plt.ylabel(\"\")\n",
    "    plt.title(\"\")\n",
    "\n",
    "    # Display line legend\n",
    "    plt.legend()"
   ]
  },
  {
   "cell_type": "markdown",
   "metadata": {
    "deletable": false,
    "editable": false,
    "nbgrader": {
     "checksum": "14e549aad02f301d977f74021f9df9f8",
     "grade": false,
     "grade_id": "cell-1fa368557b2c1125",
     "locked": true,
     "schema_version": 1,
     "solution": false
    }
   },
   "source": [
    "### Problem 1, Part 2: Creating a first plot (3 points)\n",
    "\n",
    "You should be able to call the `age_predict` function defined above with no argument to produce a plot like that shown below.\n",
    "\n",
    "![Time-dependent heat transfer with advection](img/1D_transient_plot1.png)<br/>\n",
    "*Figure 1. 1D transient thermal solution including advection.*\n",
    "\n",
    "For this part you should:\n",
    "\n",
    "- Edit the Python cell containing the  function to add axis labels and a title to the plot in produces.\n",
    "- Determine the advection velocity and edit the cell containing the `age_predict` function to add a text label listing the advection velocity on your the plot using the `plt.text()` function.\n",
    "- Re-run the Python cell containing the `age_predict` function to store the updated version in memory.\n",
    "- Call the age_predict function in the Python cell below with no arguments to produce your first plot.\n",
    "- Add a figure caption for the plot in the cell beneath it describing it as if it were in a scientific journal article."
   ]
  },
  {
   "cell_type": "code",
   "execution_count": null,
   "metadata": {
    "deletable": false,
    "nbgrader": {
     "checksum": "7ef48f5ebc374fd9fd1c53bdbe860992",
     "grade": true,
     "grade_id": "plot_1",
     "locked": false,
     "points": 2,
     "schema_version": 1,
     "solution": true
    }
   },
   "outputs": [],
   "source": [
    "# YOUR CODE HERE\n",
    "raise NotImplementedError()"
   ]
  },
  {
   "cell_type": "markdown",
   "metadata": {
    "deletable": false,
    "nbgrader": {
     "checksum": "5ac1969d7070a38d56ad3a4057163d53",
     "grade": true,
     "grade_id": "plot_1_caption",
     "locked": false,
     "points": 1,
     "schema_version": 1,
     "solution": true
    }
   },
   "source": [
    "YOUR ANSWER HERE"
   ]
  },
  {
   "cell_type": "markdown",
   "metadata": {
    "deletable": false,
    "editable": false,
    "nbgrader": {
     "checksum": "20db2ed485904d85f93b69041cf6fdf0",
     "grade": false,
     "grade_id": "cell-643f5d1f42fcd469",
     "locked": true,
     "schema_version": 1,
     "solution": false
    }
   },
   "source": [
    "### Problem 1, Part 3: Changing the advection velocity (2 points)\n",
    "\n",
    "Now let's see how the thermal solution changes when you change the advection velocity.\n",
    "\n",
    "For this part you should:\n",
    "\n",
    "- Call the `age_predict` function in the cell below with an advection velocity of 1.0 km/Ma. Look at the definition of `age_predict` to see how to use a different advection velocity.\n",
    "- Add a figure caption for the plot in the cell beneath it describing it as if it were in a scientific journal article.\n",
    "- In the third Python cell below, call the `age_predict` function with an advection velocity of 0.1 km/Ma.\n",
    "- Again, add a figure caption for the plot in the cell beneath it describing it as if it were in a scientific journal article."
   ]
  },
  {
   "cell_type": "code",
   "execution_count": null,
   "metadata": {
    "deletable": false,
    "nbgrader": {
     "checksum": "47cd0f43629ab353fd8f1af592e0be65",
     "grade": true,
     "grade_id": "plot_2",
     "locked": false,
     "points": 0.5,
     "schema_version": 1,
     "solution": true
    }
   },
   "outputs": [],
   "source": [
    "# YOUR CODE HERE\n",
    "raise NotImplementedError()"
   ]
  },
  {
   "cell_type": "markdown",
   "metadata": {
    "deletable": false,
    "nbgrader": {
     "checksum": "b9f5d0077357289df2ed9ad8559ca84a",
     "grade": true,
     "grade_id": "plot_2_caption",
     "locked": false,
     "points": 0.5,
     "schema_version": 1,
     "solution": true
    }
   },
   "source": [
    "YOUR ANSWER HERE"
   ]
  },
  {
   "cell_type": "code",
   "execution_count": null,
   "metadata": {
    "deletable": false,
    "nbgrader": {
     "checksum": "34f4073b3099f20544666a0c6b0b9a66",
     "grade": true,
     "grade_id": "plot_3",
     "locked": false,
     "points": 0.5,
     "schema_version": 1,
     "solution": true
    }
   },
   "outputs": [],
   "source": [
    "# YOUR CODE HERE\n",
    "raise NotImplementedError()"
   ]
  },
  {
   "cell_type": "markdown",
   "metadata": {
    "deletable": false,
    "nbgrader": {
     "checksum": "f7a82d0f9828529109e11a2dca51fe4d",
     "grade": true,
     "grade_id": "plot_3_caption",
     "locked": false,
     "points": 0.5,
     "schema_version": 1,
     "solution": true
    }
   },
   "source": [
    "YOUR ANSWER HERE"
   ]
  },
  {
   "cell_type": "markdown",
   "metadata": {
    "deletable": false,
    "editable": false,
    "nbgrader": {
     "checksum": "52d46abcbe01e85f0ff2a374116340b7",
     "grade": false,
     "grade_id": "cell-9f797b503f721546",
     "locked": true,
     "schema_version": 1,
     "solution": false
    }
   },
   "source": [
    "### Problem 1, Part 4: Changing the simulation time (1 point)\n",
    "\n",
    "Next let's see how the thermal solution changes when you change the simulation time.\n",
    "\n",
    "For this part you should:\n",
    "\n",
    "- Call the `age_predict` function in the cell below with a simulation time of 100 Ma. Again, look at the definition of `age_predict` to see how to use a different simulation time.\n",
    "- Add a figure caption for the plot in the cell beneath it describing it as if it were in a scientific journal article.\n",
    "- In the third Python cell, you can explore what happens for even longer simulation times (1000 Ma, 5000 Ma, etc.). There is no need to add a caption for this plot, but there will be a question about it at the end of this problem."
   ]
  },
  {
   "cell_type": "code",
   "execution_count": null,
   "metadata": {
    "deletable": false,
    "nbgrader": {
     "checksum": "5f5fb70c9b13ac4924865699053b4e57",
     "grade": true,
     "grade_id": "plot_4",
     "locked": false,
     "points": 0.5,
     "schema_version": 1,
     "solution": true
    }
   },
   "outputs": [],
   "source": [
    "# YOUR CODE HERE\n",
    "raise NotImplementedError()"
   ]
  },
  {
   "cell_type": "markdown",
   "metadata": {
    "deletable": false,
    "nbgrader": {
     "checksum": "67dcf4e7b69d8d87de6ae432c0705411",
     "grade": true,
     "grade_id": "plot_4_caption",
     "locked": false,
     "points": 0.5,
     "schema_version": 1,
     "solution": true
    }
   },
   "source": [
    "YOUR ANSWER HERE"
   ]
  },
  {
   "cell_type": "code",
   "execution_count": null,
   "metadata": {
    "deletable": false,
    "nbgrader": {
     "checksum": "77f4f18b79d555d2b85b3491d02cacf7",
     "grade": true,
     "grade_id": "long_simulations",
     "locked": false,
     "points": 0,
     "schema_version": 1,
     "solution": true
    }
   },
   "outputs": [],
   "source": [
    "# YOUR CODE HERE\n",
    "raise NotImplementedError()"
   ]
  },
  {
   "cell_type": "markdown",
   "metadata": {
    "deletable": false,
    "editable": false,
    "nbgrader": {
     "checksum": "6397f61ccfd38e130bbb4c620750f5cd",
     "grade": false,
     "grade_id": "cell-8f6a3f077be2cd11",
     "locked": true,
     "schema_version": 1,
     "solution": false
    }
   },
   "source": [
    "### Problem 1, Part 5: The initial thermal gradient (2 points)\n",
    "\n",
    "Now let's see how the thermal solution changes when you change the thermal gradient at the start of the calculation.\n",
    "\n",
    "For this part you should:\n",
    "\n",
    "- Call the `age_predict` function in the cell below with an initial geothermal gradient of 20°C/km. As before, look at the definition of `age_predict` to see how to use a initial geothermal gradient.\n",
    "- Add a figure caption for the plot in the cell beneath it describing it as if it were in a scientific journal article.\n",
    "- In the third Python cell below, call the `age_predict` function with an initial geothermal gradient of 5°C/km.\n",
    "- Again, add a figure caption for the plot in the cell beneath it describing it as if it were in a scientific journal article."
   ]
  },
  {
   "cell_type": "code",
   "execution_count": null,
   "metadata": {
    "deletable": false,
    "nbgrader": {
     "checksum": "c072c74cf7f8b172e163bb27889af003",
     "grade": true,
     "grade_id": "plot_5",
     "locked": false,
     "points": 0.5,
     "schema_version": 1,
     "solution": true
    }
   },
   "outputs": [],
   "source": [
    "# YOUR CODE HERE\n",
    "raise NotImplementedError()"
   ]
  },
  {
   "cell_type": "markdown",
   "metadata": {
    "deletable": false,
    "nbgrader": {
     "checksum": "ec0dbe29f180ec3b01c65fe9f585fdd7",
     "grade": true,
     "grade_id": "plot_5_caption",
     "locked": false,
     "points": 0.5,
     "schema_version": 1,
     "solution": true
    }
   },
   "source": [
    "YOUR ANSWER HERE"
   ]
  },
  {
   "cell_type": "code",
   "execution_count": null,
   "metadata": {
    "deletable": false,
    "nbgrader": {
     "checksum": "669a1b55aec8c137e7edb1ea98b149c5",
     "grade": true,
     "grade_id": "plot_6",
     "locked": false,
     "points": 0.5,
     "schema_version": 1,
     "solution": true
    }
   },
   "outputs": [],
   "source": [
    "# YOUR CODE HERE\n",
    "raise NotImplementedError()"
   ]
  },
  {
   "cell_type": "markdown",
   "metadata": {
    "deletable": false,
    "nbgrader": {
     "checksum": "2767e23f2b1d539c0d2a76338be01e4a",
     "grade": true,
     "grade_id": "plot_6_caption",
     "locked": false,
     "points": 0.5,
     "schema_version": 1,
     "solution": true
    }
   },
   "source": [
    "YOUR ANSWER HERE"
   ]
  },
  {
   "cell_type": "markdown",
   "metadata": {
    "deletable": false,
    "editable": false,
    "nbgrader": {
     "checksum": "34ac74a4916eef0be4113820074a8a7b",
     "grade": false,
     "grade_id": "cell-c982b9049db1c730",
     "locked": true,
     "schema_version": 1,
     "solution": false
    }
   },
   "source": [
    "### Problem 1, Part 6: Additional temperature calculations (1 point)\n",
    "\n",
    "Finally, let's add a few more calculated geotherms to the plot.\n",
    "\n",
    "For this part you should:\n",
    "\n",
    "- Call the `age_predict` function with the number of temperature calculations to plot increased from 1 to 5.\n",
    "- Add a figure caption for the plot in the cell beneath it describing it as if it were in a scientific journal article."
   ]
  },
  {
   "cell_type": "code",
   "execution_count": null,
   "metadata": {
    "deletable": false,
    "nbgrader": {
     "checksum": "812acdca203b7fbbbca9bbf66ab5cbd3",
     "grade": true,
     "grade_id": "plot_7",
     "locked": false,
     "points": 0.5,
     "schema_version": 1,
     "solution": true
    }
   },
   "outputs": [],
   "source": [
    "# YOUR CODE HERE\n",
    "raise NotImplementedError()"
   ]
  },
  {
   "cell_type": "markdown",
   "metadata": {
    "deletable": false,
    "nbgrader": {
     "checksum": "75684802c6f7f3c81f2aed5685843ed1",
     "grade": true,
     "grade_id": "plot_7_caption",
     "locked": false,
     "points": 0.5,
     "schema_version": 1,
     "solution": true
    }
   },
   "source": [
    "YOUR ANSWER HERE"
   ]
  },
  {
   "cell_type": "markdown",
   "metadata": {
    "deletable": false,
    "editable": false,
    "nbgrader": {
     "checksum": "9b7d6042bd7328c53b8cd536131fa7ec",
     "grade": false,
     "grade_id": "cell-597043d9dc5fd103",
     "locked": true,
     "schema_version": 1,
     "solution": false
    }
   },
   "source": [
    "### Problem 1, Part 7: Questions for this part (3 points)\n",
    "\n",
    "1. How does the thermal solution change when you change the advection velocity?\n",
    "2. How does changing the advection velocity change temperatures in the shallow crust (<10 km depth)?\n",
    "3. What happens to temperatures in the model as the simulation time increases?\n",
    "4. What do you observe for the temperatures in the model when you change the simulation time? Are there any potential problems with long simulations? Does the model approach a thermal steady state?\n",
    "5. How does the initial temperature gradient affect the temperatures in the model? Is there any clear relationship between the initial temperature gradient and the maximum temperature in the model at *t* = 0 Ma?\n",
    "6. In your opinion, is it helpful to see the temperature calculations at different times?"
   ]
  },
  {
   "cell_type": "markdown",
   "metadata": {
    "deletable": false,
    "nbgrader": {
     "checksum": "491c6994369e67dab2234c7ed8b51769",
     "grade": true,
     "grade_id": "problem_1_questions",
     "locked": false,
     "points": 3,
     "schema_version": 1,
     "solution": true
    }
   },
   "source": [
    "YOUR ANSWER HERE"
   ]
  },
  {
   "cell_type": "markdown",
   "metadata": {
    "deletable": false,
    "editable": false,
    "nbgrader": {
     "checksum": "59a37a87e1a59090aa4fc5046e424969",
     "grade": false,
     "grade_id": "cell-edb691557d30ddeb",
     "locked": true,
     "schema_version": 1,
     "solution": false
    }
   },
   "source": [
    "## Predicting thermochronometer ages\n",
    "\n",
    "Thermochronometers record the time since a rock or mineral was at a certain temperature (the closure temperature) in the Earth.\n",
    "Above, we have calculated temperature solutions assuming 1-D vertical advection of the crust.\n",
    "Here, we will track a parcel of rock through the temperature field as it is advected toward the surface and use the recorded temperature history to predict thermochronometer ages.\n",
    "The key to understanding what is done here is to understand that we will be simulating the position of a parcel of rock at depth in the earth, and at each time step the position of the rock parcel will be moved upward according to the length of the time step multiplied by the advection velocity.\n",
    "In mathematical terms, this relationship is\n",
    "\n",
    "\\begin{equation}\n",
    "  \\Large\n",
    "  z(t) = z(t-1) - v_{z} dt\n",
    "\\end{equation}\n",
    "*Equation 3. Equation for calculating rock particle depth as a function of time.*\n",
    "\n",
    "Thus, we will track a parcel of rock from some depth in the model at the start of the temperature calculation to its final location at the surface when the simulation is complete at 0 Ma.\n",
    "At each depth, the temperature of the parcel of rock will be stored, which will allow the cooling in the temperature history of the rock parcel to be used to predict different thermochronometer ages.\n",
    "We will consider the apatite (U-Th)/He, zircon (U-Th)/He, and muscovite <sup>40</sup>Ar/<sup>39</sup>Ar thermochronometers that were presented briefly in lecture.\n",
    "\n",
    "Thermochronometer closure temperatures will be predicted using Dodson's method, which was also discussed briefly in lecture.\n",
    "According to Dodson's method, the closure temperature *T*<sub>c</sub> of a thermochronometer is\n",
    "\n",
    "\\begin{equation}\n",
    "  \\Large\n",
    "  T_{\\mathrm{c}} = \\frac{E_{\\mathrm{a}}}{R \\ln \\left( A \\tau D_{0} / a^{2} \\right)}\n",
    "\\end{equation}\n",
    "*Equation 4. The effective closure temperature according to Dodson's method.*\n",
    "\n",
    "where $E_{\\mathrm{a}}$ is the activation energy, $R$ is the universal gas constant, $A$ is a geometric factor ($A = 25$ for a sphere, $A = 8.7$ for a planar sheet), $\\tau$ is time for the diffusivity to decrease by a factor of 1/e, $D_{0}$ is the diffusivity at infinite temperature and $a$ is the diffusion domain (we'll assume this is the size of the mineral).\n",
    "The value of $\\tau$ can be calculated as a function of the cooling rate $dT/dt$\n",
    "\n",
    "\\begin{equation}\n",
    "  \\Large\n",
    "  \\tau = -\\frac{R T^{2}}{E_{\\mathrm{a}} dT/dt}\n",
    "\\end{equation}\n",
    "*Equation 5. The characteristic time for a change in diffusivity.*\n",
    "\n",
    "By simulating cooling of the minerals by iterating over the values of the recorded temperature history from depth to the surface, thermochronometer ages can be predicted for various systems."
   ]
  },
  {
   "cell_type": "markdown",
   "metadata": {
    "deletable": false,
    "editable": false,
    "nbgrader": {
     "checksum": "adfacb00d319a320e46ce95219328443",
     "grade": false,
     "grade_id": "cell-0bde83c057532cca",
     "locked": true,
     "schema_version": 1,
     "solution": false
    }
   },
   "source": [
    "## Problem 2 - Cooling ages and their relationship exhumation rates (8 points)\n",
    "\n",
    "One of the main interests for geoscientists using thermochronology is to determine the average exhumation rate of rocks in a study area based on the ages of thermochronometer data at the surface."
   ]
  },
  {
   "cell_type": "markdown",
   "metadata": {
    "deletable": false,
    "editable": false,
    "nbgrader": {
     "checksum": "3893dd31b9a7514360d82d8e8d12967e",
     "grade": false,
     "grade_id": "cell-f494c727eefe3be3",
     "locked": true,
     "schema_version": 1,
     "solution": false
    }
   },
   "source": [
    "### Problem 2, Part 1: Dodson's method (0 points)\n",
    "\n",
    "As mentioned above and in the lecture materials for this week, Dodson's method can be used to calculate closure temperatures for minerals experiencing temperature-dependent diffusion of a daughter isotope.\n",
    "Once a closure temperature is calculated, the model we are using for recording the temperature of a rock particle as it cools can be used to determine the time at which the rock particle cools below the closure temperature (i.e., the thermochronometer age).\n",
    "We'll do just that in this problem, but first we need to define a function for calculating a closure temperature and thermochronometer age using Dodson's method.\n",
    "\n",
    "For this part you should:\n",
    "\n",
    "- Run the Python cell below, which defines a function to solve Dodson's equation (i.e., Equations 4 and 5 below)."
   ]
  },
  {
   "cell_type": "code",
   "execution_count": null,
   "metadata": {
    "deletable": false,
    "editable": false,
    "nbgrader": {
     "checksum": "d5b024bda07de79a44f28b66e064c409",
     "grade": false,
     "grade_id": "cell-0d5eb245d2036d25",
     "locked": true,
     "schema_version": 1,
     "solution": false
    }
   },
   "outputs": [],
   "source": [
    "def dodson(tau, temp_hist, temp_hist_prev, time, time_prev, age, tc_prev, ea, dtdt, a, d0a2, r):\n",
    "    \"\"\"Calculate thermochronometer age and closure temperature using Dodson's method.\n",
    "    \n",
    "    Keyword arguments:\n",
    "    tau -- diffusivity characteristic time (units: Ma)\n",
    "    temp_hist -- current temperature in history (units: deg. C)\n",
    "    temp_hist_prev -- temperature from last iteration (units: deg. C)\n",
    "    time -- time until end of simulation (units: Ma)\n",
    "    time_prev -- previous time until end of simulation (units: Ma)\n",
    "    age -- previous calculated thermochronometer age (units: Ma)\n",
    "    tc_prev -- previous calculated closure temperature (units: deg. C)\n",
    "    ea -- activation energy (units: J / mol)\n",
    "    dtdt -- cooling rate (units: deg. C / Ma)\n",
    "    a -- geometric factor (25 for a sphere, 8.7 for a planar sheet)\n",
    "    d0a2 -- diffusivity at infinite temperature over domain squared (units: 1 / s)\n",
    "    r -- universal gas constant (units: J / (mol K))\n",
    "    \"\"\"\n",
    "    # Calculate diffusivity characteristic time\n",
    "    tau = (r * (temp_hist + 273.15)**2.0) / (ea * dtdt)\n",
    "    # Calculate new closure temperature\n",
    "    tc = ea / (r * np.log(a * tau * d0a2)) - 273.15\n",
    "    # Calculate new cooling age if temperature is above tc\n",
    "    if temp_hist > tc:\n",
    "        ratio = (tc_prev - temp_hist_prev)/(tc_prev - temp_hist_prev + temp_hist - tc)\n",
    "        age = time + (time_prev - time) * ratio\n",
    "    tc_prev = tc\n",
    "    return age, tc, tc_prev"
   ]
  },
  {
   "cell_type": "markdown",
   "metadata": {
    "deletable": false,
    "editable": false,
    "nbgrader": {
     "checksum": "730c61d0f30693431eb277b81ef53d17",
     "grade": false,
     "grade_id": "cell-fb3f704cd77b9431",
     "locked": true,
     "schema_version": 1,
     "solution": false
    }
   },
   "source": [
    "### Problem 2, Part 2: Calculating a thermochronometer age (2 points)\n",
    "\n",
    "We can start exploring Dodson's method by calculating an apatite (U-Th)/He age with the default parameters.\n",
    "\n",
    "For this part you should: \n",
    "\n",
    "- Look carefully through the Python cell containing the `age_predict` function to find where the closure temperature is calculated.\n",
    "- Edit that cell to display the predicted apatite (U-Th)/He age and predicted closure temperature on the plot using the `plt.text()` function.\n",
    "    - I suggest that you use the text plotting function near the bottom of the `age_predict` function where the predicted apatite (U-Th)/He age is printed to the screen (if requested).\n",
    "- Re-run the Python cell containing the `age_predict` function to store the updated version in memory.\n",
    "- Call the age_predict function with calculation of the apatite (U-Th)/He age enabled. Look at the definition of `age_predict` to see how to set the flags (`True`/`False` parameters) that allow you to enable the calculation of different thermochronometers.\n",
    "- Add a figure caption for the plot in the cell beneath it describing it as if it were in a scientific journal article."
   ]
  },
  {
   "cell_type": "code",
   "execution_count": null,
   "metadata": {
    "deletable": false,
    "nbgrader": {
     "checksum": "e5276b9b69b2e003fcfdd8af924d327a",
     "grade": true,
     "grade_id": "plot_8",
     "locked": false,
     "points": 1.5,
     "schema_version": 1,
     "solution": true
    }
   },
   "outputs": [],
   "source": [
    "# YOUR CODE HERE\n",
    "raise NotImplementedError()"
   ]
  },
  {
   "cell_type": "markdown",
   "metadata": {
    "deletable": false,
    "nbgrader": {
     "checksum": "9c4841cddceb5655974fdc918fe852bb",
     "grade": true,
     "grade_id": "plot_8_caption",
     "locked": false,
     "points": 0.5,
     "schema_version": 1,
     "solution": true
    }
   },
   "source": [
    "YOUR ANSWER HERE"
   ]
  },
  {
   "cell_type": "markdown",
   "metadata": {
    "deletable": false,
    "editable": false,
    "nbgrader": {
     "checksum": "55023bec5452c0c90c5618080ead6d21",
     "grade": false,
     "grade_id": "cell-fd49e21e06a996ca",
     "locked": true,
     "schema_version": 1,
     "solution": false
    }
   },
   "source": [
    "### Problem 2, Part 3: Predicting other thermochronometer ages (1.5 points)\n",
    "\n",
    "Now we can enable prediction of the zircon (U-Th)/He and muscovite $^{40}$Ar/$^{39}$Ar thermochronometer ages as well.\n",
    "\n",
    "For this part you should: \n",
    "\n",
    "- Return to the Python cell containing the `age_predict` function to where the closure temperatures are calculated.\n",
    "- Edit that cell to display the predicted zircon (U-Th)/He and muscovite $^{40}$Ar/$^{39}$Ar ages and predicted closure temperatures on the plot using the `plt.text()` function.\n",
    "    - Again, I suggest that you use the text plotting function near the bottom of the `age_predict` function where the predicted ages are printed to the screen (if requested).\n",
    "- Re-run the Python cell containing the `age_predict` function to store the updated version in memory.\n",
    "- Call the age_predict function with calculation of the all three thermochronometer ages enabled. As above, look at the definition of `age_predict` to see how to set the flags (`True`/`False` parameters) that allow you to enable the calculation of different thermochronometers.\n",
    "- Add a figure caption for the plot in the cell beneath it describing it as if it were in a scientific journal article."
   ]
  },
  {
   "cell_type": "code",
   "execution_count": null,
   "metadata": {
    "deletable": false,
    "nbgrader": {
     "checksum": "84e2d40c869da63923d2497ee0713200",
     "grade": true,
     "grade_id": "plot_9",
     "locked": false,
     "points": 1,
     "schema_version": 1,
     "solution": true
    }
   },
   "outputs": [],
   "source": [
    "# YOUR CODE HERE\n",
    "raise NotImplementedError()"
   ]
  },
  {
   "cell_type": "markdown",
   "metadata": {
    "deletable": false,
    "nbgrader": {
     "checksum": "1a6654726826a29d098a17919d6e4756",
     "grade": true,
     "grade_id": "plot_9_caption",
     "locked": false,
     "points": 0.5,
     "schema_version": 1,
     "solution": true
    }
   },
   "source": [
    "YOUR ANSWER HERE"
   ]
  },
  {
   "cell_type": "markdown",
   "metadata": {
    "deletable": false,
    "editable": false,
    "nbgrader": {
     "checksum": "d4abd5534676709054c3e9229e7d8939",
     "grade": false,
     "grade_id": "cell-9fafa774e947d448",
     "locked": true,
     "schema_version": 1,
     "solution": false
    }
   },
   "source": [
    "### Problem 2, Part 4: Visualizing the thermal history (1 point)\n",
    "\n",
    "To understand more about how the thermochronometer ages are predicted, it can he helpful to look at the temperature-depth history of the parcel of rock as it travels from depth to the surface.\n",
    "\n",
    "For this part you should:\n",
    "\n",
    "- Call the `age_predict` function with the flag (`True`/`False` parameter) enabled for plotting the temperature-depth history of the rock parcel as it travels from depth to the surface in the model. Again, look at the definition of `age_predict` to see how to set this flag.\n",
    "    - This will add a set of symbols to the plot that display how the temperature and depth of the rock parcel changes with time.\n",
    "    - Keep the three flags for thermochronometer age prediction set to `True`.\n",
    "- Add a figure caption for the plot in the cell beneath it describing it as if it were in a scientific journal article."
   ]
  },
  {
   "cell_type": "code",
   "execution_count": null,
   "metadata": {
    "deletable": false,
    "nbgrader": {
     "checksum": "00c7463c9d376f7957d819b3b0fb42d8",
     "grade": true,
     "grade_id": "plot_10",
     "locked": false,
     "points": 0.5,
     "schema_version": 1,
     "solution": true
    }
   },
   "outputs": [],
   "source": [
    "# YOUR CODE HERE\n",
    "raise NotImplementedError()"
   ]
  },
  {
   "cell_type": "markdown",
   "metadata": {
    "deletable": false,
    "nbgrader": {
     "checksum": "e8d6fd05048372f549f910cf16d5b119",
     "grade": true,
     "grade_id": "plot_10_caption",
     "locked": false,
     "points": 0.5,
     "schema_version": 1,
     "solution": true
    }
   },
   "source": [
    "YOUR ANSWER HERE"
   ]
  },
  {
   "cell_type": "markdown",
   "metadata": {
    "deletable": false,
    "editable": false,
    "nbgrader": {
     "checksum": "2a4cf63d5a33c5583ca4af66c6423ddd",
     "grade": false,
     "grade_id": "cell-6cd80baece92799c",
     "locked": true,
     "schema_version": 1,
     "solution": false
    }
   },
   "source": [
    "### Problem 2, Part 5: Faster advection (1 point)\n",
    "\n",
    "Now we can produce a plot like that above with a faster advection velocity.\n",
    "\n",
    "For this part you should:\n",
    "\n",
    "- Call the `age_predict` function with the same parameter flags enabled as in the previous part of this problem, but also with an advection velocity of 1.0 km/Ma.\n",
    "    - Have a look at Problem 1, Part 3 for how to change the advection velocity.\n",
    "- Add a figure caption for the plot in the cell beneath it describing it as if it were in a scientific journal article."
   ]
  },
  {
   "cell_type": "code",
   "execution_count": null,
   "metadata": {
    "deletable": false,
    "nbgrader": {
     "checksum": "abfff273ebbcd099b4597e0f5cc25bf8",
     "grade": true,
     "grade_id": "plot_11",
     "locked": false,
     "points": 0.5,
     "schema_version": 1,
     "solution": true
    }
   },
   "outputs": [],
   "source": [
    "# YOUR CODE HERE\n",
    "raise NotImplementedError()"
   ]
  },
  {
   "cell_type": "markdown",
   "metadata": {
    "deletable": false,
    "nbgrader": {
     "checksum": "c0167367b53a7e280042811020e56d74",
     "grade": true,
     "grade_id": "plot_11_caption",
     "locked": false,
     "points": 0.5,
     "schema_version": 1,
     "solution": true
    }
   },
   "source": [
    "YOUR ANSWER HERE"
   ]
  },
  {
   "cell_type": "markdown",
   "metadata": {
    "deletable": false,
    "editable": false,
    "nbgrader": {
     "checksum": "7bed26a465716ad9fea17a6e296b9bae",
     "grade": false,
     "grade_id": "cell-5b23830fbcaccf0c",
     "locked": true,
     "schema_version": 1,
     "solution": false
    }
   },
   "source": [
    "### Problem 2, Part 6: Questions for this problem (2.5 points)\n",
    "\n",
    "1. What is the predicted apatite (U-Th)/He age in Part 2? What does that age mean?\n",
    "2. What is the closure temperature for Part 2?\n",
    "3. Do all of the predicted thermochronometer ages make sense in Part 3?\n",
    "4. In Part 4, do you see any problems with the predicted ages considering the predicted thermochronometer ages and closure temperatures?\n",
    "5. Do the predicted thermochronometer ages in Part 5 make more sense? What was the problem in Parts 2 and 3?"
   ]
  },
  {
   "cell_type": "markdown",
   "metadata": {
    "deletable": false,
    "nbgrader": {
     "checksum": "d325dd3904889b65ff6af44f39b1cc83",
     "grade": true,
     "grade_id": "cell-e6a14a0ab6e1897f",
     "locked": false,
     "points": 2.5,
     "schema_version": 1,
     "solution": true
    }
   },
   "source": [
    "YOUR ANSWER HERE"
   ]
  },
  {
   "cell_type": "markdown",
   "metadata": {
    "deletable": false,
    "editable": false,
    "nbgrader": {
     "checksum": "ddb8abcd97d654ced277b242052fd459",
     "grade": false,
     "grade_id": "cell-7b5e5083de47961c",
     "locked": true,
     "schema_version": 1,
     "solution": false
    }
   },
   "source": [
    "## References\n",
    "\n",
    "Carslaw, H. S., & Jaeger, J. C. (1959). Conduction of heat in solids. Oxford: Clarendon Press.\n",
    "\n",
    "Dodson, M. H. (1973). Closure temperature in cooling geochronological and petrological systems. Contributions to Mineralogy and Petrology, 40(3), 259–274."
   ]
  }
 ],
 "metadata": {
  "kernelspec": {
   "display_name": "Python 3",
   "language": "python",
   "name": "python3"
  },
  "language_info": {
   "codemirror_mode": {
    "name": "ipython",
    "version": 3
   },
   "file_extension": ".py",
   "mimetype": "text/x-python",
   "name": "python",
   "nbconvert_exporter": "python",
   "pygments_lexer": "ipython3",
   "version": "3.6.4"
  }
 },
 "nbformat": 4,
 "nbformat_minor": 2
}
